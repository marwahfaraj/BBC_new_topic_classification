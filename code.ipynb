{
 "cells": [
  {
   "cell_type": "code",
   "execution_count": 3,
   "metadata": {},
   "outputs": [
    {
     "data": {
      "text/html": [
       "<div>\n",
       "<style scoped>\n",
       "    .dataframe tbody tr th:only-of-type {\n",
       "        vertical-align: middle;\n",
       "    }\n",
       "\n",
       "    .dataframe tbody tr th {\n",
       "        vertical-align: top;\n",
       "    }\n",
       "\n",
       "    .dataframe thead th {\n",
       "        text-align: right;\n",
       "    }\n",
       "</style>\n",
       "<table border=\"1\" class=\"dataframe\">\n",
       "  <thead>\n",
       "    <tr style=\"text-align: right;\">\n",
       "      <th></th>\n",
       "      <th>text</th>\n",
       "      <th>labels</th>\n",
       "      <th>no_sentences</th>\n",
       "      <th>Flesch Reading Ease Score</th>\n",
       "      <th>Dale-Chall Readability Score</th>\n",
       "      <th>text_rank_summary</th>\n",
       "      <th>lsa_summary</th>\n",
       "    </tr>\n",
       "  </thead>\n",
       "  <tbody>\n",
       "    <tr>\n",
       "      <th>0</th>\n",
       "      <td>Ad sales boost Time Warner profit\\n\\nQuarterly...</td>\n",
       "      <td>business</td>\n",
       "      <td>26</td>\n",
       "      <td>62.17</td>\n",
       "      <td>9.72</td>\n",
       "      <td>It hopes to increase subscribers by offering t...</td>\n",
       "      <td>Its profits were buoyed by one-off gains which...</td>\n",
       "    </tr>\n",
       "    <tr>\n",
       "      <th>1</th>\n",
       "      <td>Dollar gains on Greenspan speech\\n\\nThe dollar...</td>\n",
       "      <td>business</td>\n",
       "      <td>17</td>\n",
       "      <td>65.56</td>\n",
       "      <td>9.09</td>\n",
       "      <td>The dollar has hit its highest level against t...</td>\n",
       "      <td>\"I think the chairman's taking a much more san...</td>\n",
       "    </tr>\n",
       "    <tr>\n",
       "      <th>2</th>\n",
       "      <td>Yukos unit buyer faces loan claim\\n\\nThe owner...</td>\n",
       "      <td>business</td>\n",
       "      <td>14</td>\n",
       "      <td>69.21</td>\n",
       "      <td>9.66</td>\n",
       "      <td>The owners of embattled Russian oil giant Yuko...</td>\n",
       "      <td>Yukos' owner Menatep Group says it will ask Ro...</td>\n",
       "    </tr>\n",
       "    <tr>\n",
       "      <th>3</th>\n",
       "      <td>High fuel prices hit BA's profits\\n\\nBritish A...</td>\n",
       "      <td>business</td>\n",
       "      <td>24</td>\n",
       "      <td>62.98</td>\n",
       "      <td>9.86</td>\n",
       "      <td>Looking ahead to its full year results to Marc...</td>\n",
       "      <td>Rod Eddington, BA's chief executive, said the ...</td>\n",
       "    </tr>\n",
       "    <tr>\n",
       "      <th>4</th>\n",
       "      <td>Pernod takeover talk lifts Domecq\\n\\nShares in...</td>\n",
       "      <td>business</td>\n",
       "      <td>17</td>\n",
       "      <td>70.63</td>\n",
       "      <td>10.23</td>\n",
       "      <td>Reports in the Wall Street Journal and the Fin...</td>\n",
       "      <td>Shares in UK drinks and food firm Allied Domec...</td>\n",
       "    </tr>\n",
       "  </tbody>\n",
       "</table>\n",
       "</div>"
      ],
      "text/plain": [
       "                                                text    labels  no_sentences   \n",
       "0  Ad sales boost Time Warner profit\\n\\nQuarterly...  business            26  \\\n",
       "1  Dollar gains on Greenspan speech\\n\\nThe dollar...  business            17   \n",
       "2  Yukos unit buyer faces loan claim\\n\\nThe owner...  business            14   \n",
       "3  High fuel prices hit BA's profits\\n\\nBritish A...  business            24   \n",
       "4  Pernod takeover talk lifts Domecq\\n\\nShares in...  business            17   \n",
       "\n",
       "   Flesch Reading Ease Score  Dale-Chall Readability Score   \n",
       "0                      62.17                          9.72  \\\n",
       "1                      65.56                          9.09   \n",
       "2                      69.21                          9.66   \n",
       "3                      62.98                          9.86   \n",
       "4                      70.63                         10.23   \n",
       "\n",
       "                                   text_rank_summary   \n",
       "0  It hopes to increase subscribers by offering t...  \\\n",
       "1  The dollar has hit its highest level against t...   \n",
       "2  The owners of embattled Russian oil giant Yuko...   \n",
       "3  Looking ahead to its full year results to Marc...   \n",
       "4  Reports in the Wall Street Journal and the Fin...   \n",
       "\n",
       "                                         lsa_summary  \n",
       "0  Its profits were buoyed by one-off gains which...  \n",
       "1  \"I think the chairman's taking a much more san...  \n",
       "2  Yukos' owner Menatep Group says it will ask Ro...  \n",
       "3  Rod Eddington, BA's chief executive, said the ...  \n",
       "4  Shares in UK drinks and food firm Allied Domec...  "
      ]
     },
     "execution_count": 3,
     "metadata": {},
     "output_type": "execute_result"
    }
   ],
   "source": [
    "import pandas as pd\n",
    "import numpy as np\n",
    "\n",
    "df= pd.read_csv('data/bbc_news_text_complexity_summarization.csv')\n",
    "df.head()"
   ]
  },
  {
   "cell_type": "code",
   "execution_count": 4,
   "metadata": {},
   "outputs": [
    {
     "name": "stdout",
     "output_type": "stream",
     "text": [
      "<class 'pandas.core.frame.DataFrame'>\n",
      "RangeIndex: 2127 entries, 0 to 2126\n",
      "Data columns (total 7 columns):\n",
      " #   Column                        Non-Null Count  Dtype  \n",
      "---  ------                        --------------  -----  \n",
      " 0   text                          2127 non-null   object \n",
      " 1   labels                        2127 non-null   object \n",
      " 2   no_sentences                  2127 non-null   int64  \n",
      " 3   Flesch Reading Ease Score     2127 non-null   float64\n",
      " 4   Dale-Chall Readability Score  2127 non-null   float64\n",
      " 5   text_rank_summary             2127 non-null   object \n",
      " 6   lsa_summary                   2127 non-null   object \n",
      "dtypes: float64(2), int64(1), object(4)\n",
      "memory usage: 116.4+ KB\n"
     ]
    }
   ],
   "source": [
    "df.info()"
   ]
  },
  {
   "cell_type": "code",
   "execution_count": null,
   "metadata": {},
   "outputs": [],
   "source": []
  }
 ],
 "metadata": {
  "kernelspec": {
   "display_name": "my_env",
   "language": "python",
   "name": "python3"
  },
  "language_info": {
   "codemirror_mode": {
    "name": "ipython",
    "version": 3
   },
   "file_extension": ".py",
   "mimetype": "text/x-python",
   "name": "python",
   "nbconvert_exporter": "python",
   "pygments_lexer": "ipython3",
   "version": "3.8.16"
  }
 },
 "nbformat": 4,
 "nbformat_minor": 2
}
